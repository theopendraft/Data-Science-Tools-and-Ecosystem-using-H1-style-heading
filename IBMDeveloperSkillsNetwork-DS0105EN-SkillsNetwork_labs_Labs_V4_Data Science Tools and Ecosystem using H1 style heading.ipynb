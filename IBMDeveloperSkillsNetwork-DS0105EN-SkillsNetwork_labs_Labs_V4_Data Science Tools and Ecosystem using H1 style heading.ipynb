{
  "metadata": {
    "language_info": {
      "codemirror_mode": {
        "name": "python",
        "version": 3
      },
      "file_extension": ".py",
      "mimetype": "text/x-python",
      "name": "python",
      "nbconvert_exporter": "python",
      "pygments_lexer": "ipython3",
      "version": "3.8"
    },
    "kernelspec": {
      "name": "python",
      "display_name": "Python (Pyodide)",
      "language": "python"
    }
  },
  "nbformat_minor": 4,
  "nbformat": 4,
  "cells": [
    {
      "cell_type": "markdown",
      "source": "# In this notebook, Data Science Tools and Ecosystem are summarized",
      "metadata": {}
    },
    {
      "cell_type": "markdown",
      "source": "# Some of the popular languages that Data Scientists use are:\n1. python\n2. R language\n3. SQL",
      "metadata": {
        "tags": []
      }
    },
    {
      "cell_type": "markdown",
      "source": "**Objectives**\n* Popular development environments for Data Science include Jupyter Notebooks and RStudio.\n* The popular languages are Python, R, SQL, Scala, Java, C++, and Julia.\n* API is just the interface",
      "metadata": {}
    },
    {
      "cell_type": "markdown",
      "source": "# Some of the commonly used libraries used by Data Scientists include:\n1. scit-learn\n2. keras \n3. metplotlib\n4. pytorch\n5. tenserflow\n",
      "metadata": {}
    },
    {
      "cell_type": "markdown",
      "source": "| Data Science Tools | 1 | 2 | 3 |\n| -------------| ------------| -------------| -------|\n| Data Management Tools | MySQL | Apache Hadhoop | MongoDB |\n| Data Integration and Transformation Tools | Apache Airflow | Apache Kafka | Me |\n| Data Visualization Tools | Cognos Analytics | Tableau | PowerBI |\n",
      "metadata": {}
    },
    {
      "cell_type": "markdown",
      "source": "Below are a few examples of evaluating arithmetic expressions in Python.\n# Heading1\n## Heading2\n### Heading3\n",
      "metadata": {}
    },
    {
      "cell_type": "markdown",
      "source": "# This a simple arithmetic expression to mutiply then add integers:",
      "metadata": {}
    },
    {
      "cell_type": "markdown",
      "source": "## In this code cell evaluate the expression",
      "metadata": {}
    },
    {
      "cell_type": "code",
      "source": "\n    (3*4)+5",
      "metadata": {
        "trusted": true
      },
      "execution_count": 8,
      "outputs": [
        {
          "execution_count": 8,
          "output_type": "execute_result",
          "data": {
            "text/plain": "17"
          },
          "metadata": {}
        }
      ]
    },
    {
      "cell_type": "markdown",
      "source": "# In this code cell write an expression that converts 200 minutes into hours.",
      "metadata": {}
    },
    {
      "cell_type": "code",
      "source": "# This will convert 200 minutes to hours by diving by 60.\n",
      "metadata": {},
      "execution_count": null,
      "outputs": []
    },
    {
      "cell_type": "code",
      "source": "200/60",
      "metadata": {
        "trusted": true
      },
      "execution_count": 10,
      "outputs": [
        {
          "execution_count": 10,
          "output_type": "execute_result",
          "data": {
            "text/plain": "3.3333333333333335"
          },
          "metadata": {}
        }
      ]
    },
    {
      "cell_type": "markdown",
      "source": "## **Author**: \n### Pankaj Yadav",
      "metadata": {}
    }
  ]
}